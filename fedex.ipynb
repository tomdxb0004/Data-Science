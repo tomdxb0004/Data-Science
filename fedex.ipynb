{
 "cells": [
  {
   "cell_type": "code",
   "execution_count": 1,
   "metadata": {},
   "outputs": [
    {
     "data": {
      "text/plain": [
       "'C:\\\\Users\\\\tomdx\\\\Documents\\\\fedex'"
      ]
     },
     "execution_count": 1,
     "metadata": {},
     "output_type": "execute_result"
    }
   ],
   "source": [
    "import pandas as pd\n",
    "import numpy as np\n",
    "import os\n",
    "import seaborn as sns\n",
    "import matplotlib.pyplot as plt\n",
    "sns.set(rc={'figure.figsize':(11.7,6)})\n",
    "os.getcwd()"
   ]
  },
  {
   "cell_type": "code",
   "execution_count": 2,
   "metadata": {},
   "outputs": [],
   "source": [
    "os.chdir('C:\\\\Users\\\\tomdx\\\\Documents\\\\fedex')"
   ]
  },
  {
   "cell_type": "code",
   "execution_count": 3,
   "metadata": {},
   "outputs": [],
   "source": [
    "df = pd.read_excel('data_fed.xlsx',sheet_name='Raw Data')"
   ]
  },
  {
   "cell_type": "code",
   "execution_count": 4,
   "metadata": {},
   "outputs": [
    {
     "data": {
      "text/plain": [
       "Customer Number                0\n",
       "Customer Country               0\n",
       "Year                           0\n",
       "Month                          0\n",
       "Shipment Destination Region    0\n",
       "Revenue (EUR)                  0\n",
       "dtype: int64"
      ]
     },
     "execution_count": 4,
     "metadata": {},
     "output_type": "execute_result"
    }
   ],
   "source": [
    "df.isnull().sum()"
   ]
  },
  {
   "cell_type": "code",
   "execution_count": 5,
   "metadata": {},
   "outputs": [],
   "source": [
    "df['Month'] = df['Month'].astype(str)\n",
    "df['month'] = df['Month'].str[-2:].astype(int)\n",
    "df.loc[(df['month']>=1) & (df['month']<=3),'quarter'] = 'Q1'\n",
    "df.loc[(df['month']>=4) & (df['month']<=6),'quarter'] = 'Q2'\n",
    "df.loc[(df['month']>=7) & (df['month']<=9),'quarter'] = 'Q3'\n",
    "df.loc[(df['month']>=10) & (df['month']<=12),'quarter'] = 'Q4'\n"
   ]
  },
  {
   "cell_type": "code",
   "execution_count": null,
   "metadata": {},
   "outputs": [],
   "source": []
  },
  {
   "cell_type": "code",
   "execution_count": 6,
   "metadata": {},
   "outputs": [],
   "source": [
    "quarterly_segmented = df.groupby(['Customer Number','Year','quarter','month'])['Revenue (EUR)'].sum().reset_index()"
   ]
  },
  {
   "cell_type": "code",
   "execution_count": 7,
   "metadata": {},
   "outputs": [],
   "source": [
    "jf = quarterly_segmented\n",
    "jf = jf.groupby('Customer Number')['Revenue (EUR)'].pct_change()*100\n",
    "jf = jf.reset_index().drop(columns=['index']).rename(columns={'Revenue (EUR)':'pct_chng'})"
   ]
  },
  {
   "cell_type": "code",
   "execution_count": 8,
   "metadata": {},
   "outputs": [],
   "source": [
    "quarterly_segmented = quarterly_segmented.join(jf)\n",
    "quarterly_segmented.fillna(0,inplace=True)\n"
   ]
  },
  {
   "cell_type": "code",
   "execution_count": 9,
   "metadata": {},
   "outputs": [
    {
     "name": "stderr",
     "output_type": "stream",
     "text": [
      "<ipython-input-9-8d1260952a77>:3: SettingWithCopyWarning: \n",
      "A value is trying to be set on a copy of a slice from a DataFrame.\n",
      "Try using .loc[row_indexer,col_indexer] = value instead\n",
      "\n",
      "See the caveats in the documentation: https://pandas.pydata.org/pandas-docs/stable/user_guide/indexing.html#returning-a-view-versus-a-copy\n",
      "  buy_q3_2018['last Q'] = 'Y'\n"
     ]
    }
   ],
   "source": [
    "buy_2018 = quarterly_segmented.loc[(quarterly_segmented['Year']==2018)] \n",
    "buy_q3_2018 = buy_2018[buy_2018['quarter']=='Q3'] \n",
    "buy_q3_2018['last Q'] = 'Y'"
   ]
  },
  {
   "cell_type": "code",
   "execution_count": 10,
   "metadata": {},
   "outputs": [],
   "source": [
    "ff = pd.merge(df[['Customer Number']],buy_q3_2018,on=['Customer Number'],how='left').drop_duplicates()\n",
    "ff[ff['last Q']=='Y'].nunique()\n",
    "ff['last Q'] = ff['last Q'].fillna('N')\n",
    " "
   ]
  },
  {
   "cell_type": "code",
   "execution_count": 11,
   "metadata": {},
   "outputs": [],
   "source": [
    "ff = ff.drop_duplicates(subset='Customer Number')\n",
    "  "
   ]
  },
  {
   "cell_type": "code",
   "execution_count": 12,
   "metadata": {},
   "outputs": [],
   "source": [
    "df.loc[df['Customer Number'].isin(buy_q3_2018['Customer Number']),'Bought on last Q'] = \"Y\" \n",
    "df.loc[(df['Bought on last Q']!='Y'),'Bought on last Q'] = 'N'"
   ]
  },
  {
   "cell_type": "code",
   "execution_count": 13,
   "metadata": {},
   "outputs": [],
   "source": [
    "bought_on_q3_2018 = pd.DataFrame(buy_q3_2018['Customer Number'].unique())"
   ]
  },
  {
   "cell_type": "code",
   "execution_count": 14,
   "metadata": {},
   "outputs": [],
   "source": [
    "gg =  df.groupby(['Customer Number','Year','quarter'])['Revenue (EUR)'].sum().reset_index()\n",
    "ff = gg[~((gg['Year'] == 2018) & (gg['quarter']=='Q3'))]\n",
    " "
   ]
  },
  {
   "cell_type": "code",
   "execution_count": 15,
   "metadata": {},
   "outputs": [],
   "source": [
    "grouped = df[df['Bought on last Q']=='Y'].groupby(['Customer Number','Year','quarter'])['Revenue (EUR)'].sum().reset_index() "
   ]
  },
  {
   "cell_type": "code",
   "execution_count": 16,
   "metadata": {},
   "outputs": [],
   "source": [
    "num_orders = grouped['Customer Number'].value_counts().reset_index().rename(columns={'index':'Customer Number','Customer Number':'quarter count'})"
   ]
  },
  {
   "cell_type": "code",
   "execution_count": 17,
   "metadata": {},
   "outputs": [],
   "source": [
    "grouped = pd.merge(grouped,num_orders,on='Customer Number')\n",
    " "
   ]
  },
  {
   "cell_type": "code",
   "execution_count": 18,
   "metadata": {},
   "outputs": [],
   "source": [
    "grouped.loc[grouped['quarter count']==1,'Only Last Q'] = 'Y' "
   ]
  },
  {
   "cell_type": "code",
   "execution_count": 19,
   "metadata": {},
   "outputs": [],
   "source": [
    "only_last_q = grouped.loc[(grouped['quarter count']==1) & (grouped['Year']==2018) & (grouped['quarter']=='Q3')] \n",
    " "
   ]
  },
  {
   "cell_type": "code",
   "execution_count": 20,
   "metadata": {},
   "outputs": [],
   "source": [
    "df.loc[(df['Customer Number'].isin(only_last_q['Customer Number'])),'Only Last Q'] = 'Y' "
   ]
  },
  {
   "cell_type": "code",
   "execution_count": 21,
   "metadata": {},
   "outputs": [],
   "source": [
    "df['Only Last Q'] = df['Only Last Q'].fillna('N')"
   ]
  },
  {
   "cell_type": "code",
   "execution_count": 22,
   "metadata": {},
   "outputs": [],
   "source": [
    "q3_q2_2018 = df.loc[(df['Year']==2018)  & ((df['quarter']=='Q3')|(df['quarter']=='Q2'))]\n",
    "q3_2018 = df.loc[(df['Year']==2018)  & ((df['quarter']=='Q3'))]\n",
    "\n",
    "not_q3_2018 = df.loc[~((df['Year']==2018)  & ((df['quarter']=='Q3')))]\n",
    "not_q3_2018 = not_q3_2018.groupby('Customer Number')['Revenue (EUR)'].sum().reset_index().rename(columns={'Revenue (EUR)':'Last 6 Q Revenue'})\n",
    "q3_2018 = q3_2018.groupby('Customer Number')['Revenue (EUR)'].sum().reset_index().rename(columns={'Revenue (EUR)':'Last Q Revenue'})\n"
   ]
  },
  {
   "cell_type": "code",
   "execution_count": 23,
   "metadata": {},
   "outputs": [],
   "source": [
    "rest_of_grouped =  df.loc[~((df['Year']==2018)  & ((df['quarter']=='Q3')|(df['quarter']=='Q2')))]"
   ]
  },
  {
   "cell_type": "code",
   "execution_count": 24,
   "metadata": {},
   "outputs": [],
   "source": [
    "last_2q_revenue = q3_q2_2018.groupby('Customer Number')['Revenue (EUR)'].sum().reset_index().rename(columns={'Revenue (EUR)':'Last 2 Q Revenue'})\n",
    " "
   ]
  },
  {
   "cell_type": "code",
   "execution_count": 25,
   "metadata": {},
   "outputs": [],
   "source": [
    "first_q_revenues = rest_of_grouped.groupby('Customer Number')['Revenue (EUR)'].sum().reset_index().rename(columns={'Revenue (EUR)':'First 5 Q Revenue'})\n",
    " "
   ]
  },
  {
   "cell_type": "code",
   "execution_count": 26,
   "metadata": {},
   "outputs": [],
   "source": [
    "agg_quarterly_revenue = pd.merge(first_q_revenues,last_2q_revenue,how='outer').fillna(0)\n",
    "agg_quarterly_revenue = pd.merge(agg_quarterly_revenue,not_q3_2018,how='outer').fillna(0)\n",
    "agg_quarterly_revenue = pd.merge(agg_quarterly_revenue,q3_2018,how='outer').fillna(0)\n",
    "\n",
    " "
   ]
  },
  {
   "cell_type": "code",
   "execution_count": 27,
   "metadata": {},
   "outputs": [],
   "source": [
    "agg_quarterly_revenue['avg_qtrly_rev_5'] = agg_quarterly_revenue['First 5 Q Revenue']/5\n",
    "agg_quarterly_revenue['avg_qtrly_rev_2'] = agg_quarterly_revenue['Last 2 Q Revenue']/2"
   ]
  },
  {
   "cell_type": "code",
   "execution_count": 28,
   "metadata": {},
   "outputs": [],
   "source": [
    " agg_quarterly_revenue['pct_chng'] = round((agg_quarterly_revenue['avg_qtrly_rev_2'] - agg_quarterly_revenue['avg_qtrly_rev_5'])/agg_quarterly_revenue['avg_qtrly_rev_2'],4)*100"
   ]
  },
  {
   "cell_type": "code",
   "execution_count": 29,
   "metadata": {},
   "outputs": [],
   "source": [
    "agg_quarterly_revenue['pct_chng'] = agg_quarterly_revenue['pct_chng'].replace(-np.inf, np.nan) "
   ]
  },
  {
   "cell_type": "code",
   "execution_count": 30,
   "metadata": {},
   "outputs": [
    {
     "data": {
      "text/plain": [
       "-233.2913903743317"
      ]
     },
     "execution_count": 30,
     "metadata": {},
     "output_type": "execute_result"
    }
   ],
   "source": [
    "agg_quarterly_revenue['pct_chng'].mean() "
   ]
  },
  {
   "cell_type": "code",
   "execution_count": 31,
   "metadata": {},
   "outputs": [
    {
     "data": {
      "text/plain": [
       "647"
      ]
     },
     "execution_count": 31,
     "metadata": {},
     "output_type": "execute_result"
    }
   ],
   "source": [
    "agg_quarterly_revenue['Customer Number'].nunique()"
   ]
  },
  {
   "cell_type": "code",
   "execution_count": 32,
   "metadata": {},
   "outputs": [],
   "source": [
    "agg_quarterly_revenue.loc[(agg_quarterly_revenue['pct_chng'] < \\\n",
    "                           agg_quarterly_revenue['pct_chng'].median()),'Segment'] = 'Down-Trader'"
   ]
  },
  {
   "cell_type": "code",
   "execution_count": 33,
   "metadata": {},
   "outputs": [],
   "source": [
    "agg =  agg_quarterly_revenue.copy()\n",
    "\n",
    "agg.loc[(agg['Last 6 Q Revenue']!=0.00) & (agg['Last Q Revenue']==0.00),'Segment'] = 'Lost Customer'\n",
    "agg.loc[(agg['pct_chng'] < agg['pct_chng'].median()),'Segment'] = 'Down-Trader'\n",
    "agg.loc[(agg['pct_chng'] > 0.00),'Segment'] = 'Growth Customers'\n",
    "agg.loc[(agg['Segment'].isnull()) & (agg['pct_chng'] >= -20),'Segment'] = \"'On the verge' Customers\"\n",
    "agg.loc[(agg['Segment'].isnull()) & (agg['pct_chng'] <= -20),'Segment'] = \"Down-Trader\"\n",
    "agg.loc[(agg['First 5 Q Revenue']==0.00) & (agg['Last 2 Q Revenue']!=0.00),'Segment'] = 'Newly Acquired'\n"
   ]
  },
  {
   "cell_type": "code",
   "execution_count": 34,
   "metadata": {},
   "outputs": [],
   "source": [
    "#agg.to_csv('segmented.csv',index=0)"
   ]
  },
  {
   "cell_type": "code",
   "execution_count": 35,
   "metadata": {},
   "outputs": [
    {
     "data": {
      "text/html": [
       "<div>\n",
       "<style scoped>\n",
       "    .dataframe tbody tr th:only-of-type {\n",
       "        vertical-align: middle;\n",
       "    }\n",
       "\n",
       "    .dataframe tbody tr th {\n",
       "        vertical-align: top;\n",
       "    }\n",
       "\n",
       "    .dataframe thead th {\n",
       "        text-align: right;\n",
       "    }\n",
       "</style>\n",
       "<table border=\"1\" class=\"dataframe\">\n",
       "  <thead>\n",
       "    <tr style=\"text-align: right;\">\n",
       "      <th></th>\n",
       "      <th>Customer Number</th>\n",
       "      <th>First 5 Q Revenue</th>\n",
       "      <th>Last 2 Q Revenue</th>\n",
       "      <th>Last 6 Q Revenue</th>\n",
       "      <th>Last Q Revenue</th>\n",
       "      <th>avg_qtrly_rev_5</th>\n",
       "      <th>avg_qtrly_rev_2</th>\n",
       "      <th>pct_chng</th>\n",
       "      <th>Segment</th>\n",
       "    </tr>\n",
       "  </thead>\n",
       "  <tbody>\n",
       "    <tr>\n",
       "      <th>0</th>\n",
       "      <td>ABC0000464</td>\n",
       "      <td>5477.80</td>\n",
       "      <td>812.72</td>\n",
       "      <td>6131.32</td>\n",
       "      <td>159.20</td>\n",
       "      <td>1095.560</td>\n",
       "      <td>406.360</td>\n",
       "      <td>-169.60</td>\n",
       "      <td>Down-Trader</td>\n",
       "    </tr>\n",
       "    <tr>\n",
       "      <th>1</th>\n",
       "      <td>ABC0009734</td>\n",
       "      <td>5634.44</td>\n",
       "      <td>1058.10</td>\n",
       "      <td>6406.01</td>\n",
       "      <td>286.53</td>\n",
       "      <td>1126.888</td>\n",
       "      <td>529.050</td>\n",
       "      <td>-113.00</td>\n",
       "      <td>Down-Trader</td>\n",
       "    </tr>\n",
       "    <tr>\n",
       "      <th>2</th>\n",
       "      <td>ABC0012173</td>\n",
       "      <td>4522.23</td>\n",
       "      <td>1123.22</td>\n",
       "      <td>5345.61</td>\n",
       "      <td>299.84</td>\n",
       "      <td>904.446</td>\n",
       "      <td>561.610</td>\n",
       "      <td>-61.05</td>\n",
       "      <td>Down-Trader</td>\n",
       "    </tr>\n",
       "    <tr>\n",
       "      <th>3</th>\n",
       "      <td>ABC0026905</td>\n",
       "      <td>6993.66</td>\n",
       "      <td>2196.53</td>\n",
       "      <td>8095.81</td>\n",
       "      <td>1094.38</td>\n",
       "      <td>1398.732</td>\n",
       "      <td>1098.265</td>\n",
       "      <td>-27.36</td>\n",
       "      <td>Down-Trader</td>\n",
       "    </tr>\n",
       "    <tr>\n",
       "      <th>4</th>\n",
       "      <td>ABC0027135</td>\n",
       "      <td>5161.58</td>\n",
       "      <td>1499.32</td>\n",
       "      <td>6196.27</td>\n",
       "      <td>464.63</td>\n",
       "      <td>1032.316</td>\n",
       "      <td>749.660</td>\n",
       "      <td>-37.70</td>\n",
       "      <td>Down-Trader</td>\n",
       "    </tr>\n",
       "  </tbody>\n",
       "</table>\n",
       "</div>"
      ],
      "text/plain": [
       "  Customer Number  First 5 Q Revenue  Last 2 Q Revenue  Last 6 Q Revenue  \\\n",
       "0      ABC0000464            5477.80            812.72           6131.32   \n",
       "1      ABC0009734            5634.44           1058.10           6406.01   \n",
       "2      ABC0012173            4522.23           1123.22           5345.61   \n",
       "3      ABC0026905            6993.66           2196.53           8095.81   \n",
       "4      ABC0027135            5161.58           1499.32           6196.27   \n",
       "\n",
       "   Last Q Revenue  avg_qtrly_rev_5  avg_qtrly_rev_2  pct_chng      Segment  \n",
       "0          159.20         1095.560          406.360   -169.60  Down-Trader  \n",
       "1          286.53         1126.888          529.050   -113.00  Down-Trader  \n",
       "2          299.84          904.446          561.610    -61.05  Down-Trader  \n",
       "3         1094.38         1398.732         1098.265    -27.36  Down-Trader  \n",
       "4          464.63         1032.316          749.660    -37.70  Down-Trader  "
      ]
     },
     "execution_count": 35,
     "metadata": {},
     "output_type": "execute_result"
    }
   ],
   "source": [
    "agg.head()"
   ]
  },
  {
   "cell_type": "code",
   "execution_count": null,
   "metadata": {},
   "outputs": [],
   "source": []
  }
 ],
 "metadata": {
  "kernelspec": {
   "display_name": "Python 3",
   "language": "python",
   "name": "python3"
  },
  "language_info": {
   "codemirror_mode": {
    "name": "ipython",
    "version": 3
   },
   "file_extension": ".py",
   "mimetype": "text/x-python",
   "name": "python",
   "nbconvert_exporter": "python",
   "pygments_lexer": "ipython3",
   "version": "3.8.3"
  }
 },
 "nbformat": 4,
 "nbformat_minor": 2
}
