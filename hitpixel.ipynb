{
 "cells": [
  {
   "cell_type": "code",
   "execution_count": 1,
   "metadata": {},
   "outputs": [
    {
     "data": {
      "text/plain": [
       "'C:\\\\Users\\\\Tom Joseph\\\\Downloads'"
      ]
     },
     "execution_count": 1,
     "metadata": {},
     "output_type": "execute_result"
    }
   ],
   "source": [
    "import pandas as pd\n",
    "import numpy as np\n",
    "import os\n",
    "import seaborn as sns\n",
    "import matplotlib.pyplot as plt\n",
    "import datetime as dt\n",
    "sns.set(rc={'figure.figsize':(10,5)})\n",
    "os.getcwd()"
   ]
  },
  {
   "cell_type": "code",
   "execution_count": 2,
   "metadata": {},
   "outputs": [],
   "source": [
    "os.chdir('C:\\\\Users\\\\Tom Joseph\\\\Downloads')"
   ]
  },
  {
   "cell_type": "code",
   "execution_count": 3,
   "metadata": {},
   "outputs": [],
   "source": [
    "orders_table = pd.read_excel('data.xlsx',sheet_name='table_orders_new')\n",
    "shift_table = pd.read_excel('data.xlsx',sheet_name='shift_table_new')\n",
    " "
   ]
  },
  {
   "cell_type": "code",
   "execution_count": 4,
   "metadata": {},
   "outputs": [],
   "source": [
    "orders_table = orders_table.replace('(null)',np.nan)\n",
    "shift_table = shift_table.replace('(null)',np.nan)"
   ]
  },
  {
   "cell_type": "code",
   "execution_count": 5,
   "metadata": {},
   "outputs": [],
   "source": [
    "def calculate_time(a,b,c,df):\n",
    "    df[c] =  pd.to_datetime(df[b]) -  pd.to_datetime(df[a]) \n",
    "    return df"
   ]
  },
  {
   "cell_type": "code",
   "execution_count": null,
   "metadata": {},
   "outputs": [],
   "source": [
    "calculate_time('rider_picked_up_at','rider_at_customer','ride_time',orders_table)\n",
    "calculate_time('rider_accepted_at','rider_dropped_off_at','delivery_time',orders_table)\n",
    "calculate_time( 'rider_picked_up_at', 'expected_pickup_at','pickup_variance',orders_table)\n",
    "calculate_time( 'sent_to_vendor_at','rider_accepted_at' ,'vendor_to_rider',orders_table)\n",
    "calculate_time( 'rider_at_restaurant','rider_picked_up_at' ,'restaurant_wait_time',orders_table)\n",
    "calculate_time( 'created_at','sent_to_vendor_at' ,'order_processing_time',orders_table)"
   ]
  },
  {
   "cell_type": "code",
   "execution_count": null,
   "metadata": {},
   "outputs": [],
   "source": []
  },
  {
   "cell_type": "code",
   "execution_count": 7,
   "metadata": {},
   "outputs": [
    {
     "name": "stdout",
     "output_type": "stream",
     "text": [
      "Average delivery time : 0 days 00:20:42.026484\n",
      "Average ride time : 0 days 00:06:19.690072\n",
      "Average Time taken to send order request from Vendor to Rider : 0 days 00:02:08.563788\n",
      "Average delay in picking up from expected pickup : 0 days 00:02:15.886396\n",
      "Average wait time in restaurant : 0 days 00:08:24.874995\n",
      "Average order processing time : 0 days 00:03:21.014120\n"
     ]
    }
   ],
   "source": [
    "print('Average delivery time :',orders_table['delivery_time'].mean())\n",
    "print('Average ride time :',orders_table['ride_time'].mean())\n",
    "\n",
    "print('Average Time taken to send order request from Vendor to Rider :',orders_table['vendor_to_rider'].mean())\n",
    "print('Average delay in picking up from expected pickup :',orders_table['pickup_variance'].mean())\n",
    "print('Average wait time in restaurant :',orders_table['restaurant_wait_time'].mean())\n",
    "print('Average order processing time :',orders_table['order_processing_time'].mean())"
   ]
  },
  {
   "cell_type": "code",
   "execution_count": 8,
   "metadata": {},
   "outputs": [
    {
     "data": {
      "text/plain": [
       "EVALUATED          98.300537\n",
       "NO_SHOW             0.983900\n",
       "NO_SHOW_EXCUSED     0.715564\n",
       "Name: shift_state, dtype: float64"
      ]
     },
     "execution_count": 8,
     "metadata": {},
     "output_type": "execute_result"
    }
   ],
   "source": [
    " shift_table['shift_state'].value_counts(normalize=True)*100"
   ]
  },
  {
   "cell_type": "code",
   "execution_count": null,
   "metadata": {},
   "outputs": [],
   "source": [
    " "
   ]
  },
  {
   "cell_type": "code",
   "execution_count": 9,
   "metadata": {},
   "outputs": [
    {
     "data": {
      "image/png": "[encoded data removed]",
      "text/plain": [
       "<Figure size 432x288 with 1 Axes>"
      ]
     },
     "metadata": {
      "needs_background": "light"
     },
     "output_type": "display_data"
    }
   ],
   "source": [
    "a = orders_table['created_at'].apply(str).apply(lambda x: x.split(' ')[1].split('.')[0]).values\n",
    "# Convert to datetime format and get hours\n",
    "hours_list = [dt.datetime.strptime(date, '%H:%M:%S').hour for date in a]\n",
    "\n",
    "# Plot histogram from 0h to 24h\n",
    "n, bins, patches = plt.hist(hours_list, 12)\n",
    "plt.xlabel('Hours')\n",
    "plt.ylabel('Count')\n",
    "plt.title('Orders during the day')\n",
    "plt.axis([0, 24, 0, n.max()])\n",
    "plt.grid(True)\n",
    "\n",
    "plt.show()"
   ]
  },
  {
   "cell_type": "code",
   "execution_count": 10,
   "metadata": {},
   "outputs": [
    {
     "data": {
      "image/png": "[encoded data removed]",
      "text/plain": [
       "<Figure size 432x288 with 1 Axes>"
      ]
     },
     "metadata": {
      "needs_background": "light"
     },
     "output_type": "display_data"
    }
   ],
   "source": [
    "(orders_table['order_status'].value_counts(normalize=True)*100).plot(kind='bar')\n",
    "plt.title('Percentage of Orders completed & cancelled')\n",
    "plt.show()"
   ]
  },
  {
   "cell_type": "code",
   "execution_count": null,
   "metadata": {},
   "outputs": [],
   "source": [
    " "
   ]
  },
  {
   "cell_type": "code",
   "execution_count": null,
   "metadata": {},
   "outputs": [],
   "source": [
    "calculate_time('actual_start_at','planned_shift_start_at','start_delay',shift_table)\n",
    "calculate_time('actual_start_at','actual_end_at','hours_online',shift_table)"
   ]
  },
  {
   "cell_type": "code",
   "execution_count": null,
   "metadata": {},
   "outputs": [],
   "source": []
  },
  {
   "cell_type": "code",
   "execution_count": null,
   "metadata": {},
   "outputs": [],
   "source": []
  },
  {
   "cell_type": "code",
   "execution_count": 12,
   "metadata": {},
   "outputs": [
    {
     "name": "stdout",
     "output_type": "stream",
     "text": [
      "0 days 03:51:35.580003\n"
     ]
    }
   ],
   "source": [
    "print(shift_table['hours_online'].mean())"
   ]
  },
  {
   "cell_type": "code",
   "execution_count": 13,
   "metadata": {},
   "outputs": [],
   "source": [
    "shift_table['date'] = shift_table['actual_start_at'].dt.date\n",
    "rider_online_df = shift_table.groupby(['rider_id','date']).agg({'hours_online':sum}).reset_index()"
   ]
  },
  {
   "cell_type": "code",
   "execution_count": null,
   "metadata": {},
   "outputs": [],
   "source": [
    " "
   ]
  },
  {
   "cell_type": "code",
   "execution_count": 14,
   "metadata": {},
   "outputs": [],
   "source": [
    "orders_table['date'] = orders_table['rider_accepted_at'].dt.date"
   ]
  },
  {
   "cell_type": "code",
   "execution_count": 15,
   "metadata": {},
   "outputs": [],
   "source": [
    "ride_time_df = orders_table.groupby(['rider_id','date']).agg({'ride_time':sum,'order_id':'count'}).reset_index().rename(columns={'order_id':'#orders'})\n",
    "utr = pd.merge(rider_online_df,ride_time_df,on=['date','rider_id'])\n",
    " "
   ]
  },
  {
   "cell_type": "code",
   "execution_count": null,
   "metadata": {},
   "outputs": [],
   "source": []
  },
  {
   "cell_type": "code",
   "execution_count": 16,
   "metadata": {},
   "outputs": [
    {
     "name": "stdout",
     "output_type": "stream",
     "text": [
      "Time utilized effectively in (%) =  26.75\n"
     ]
    }
   ],
   "source": [
    "print('Time utilized effectively in (%) = ',round((utr['ride_time'].sum()/utr['hours_online'].sum())*100,2))"
   ]
  },
  {
   "cell_type": "code",
   "execution_count": 17,
   "metadata": {},
   "outputs": [],
   "source": [
    "utr['time_utilized_in_%'] = round((utr['ride_time']/utr['hours_online'])*100,2)"
   ]
  },
  {
   "cell_type": "code",
   "execution_count": 18,
   "metadata": {},
   "outputs": [
    {
     "data": {
      "image/png": "[encoded data removed]",
      "text/plain": [
       "<Figure size 1440x360 with 1 Axes>"
      ]
     },
     "metadata": {},
     "output_type": "display_data"
    }
   ],
   "source": [
    "sns.set(rc={'figure.figsize':(20,5)})\n",
    "\n",
    "sns.barplot(x='rider_id',y='time_utilized_in_%',hue='date',data=utr.head(20))\n",
    "plt.title('Rider - Time Utilized')\n",
    "plt.show()"
   ]
  },
  {
   "cell_type": "code",
   "execution_count": null,
   "metadata": {},
   "outputs": [],
   "source": []
  },
  {
   "cell_type": "code",
   "execution_count": 19,
   "metadata": {},
   "outputs": [
    {
     "name": "stdout",
     "output_type": "stream",
     "text": [
      "UTR =  2.45\n"
     ]
    }
   ],
   "source": [
    "print('UTR = ', round(utr['#orders'].sum()/(utr['hours_online'].sum().total_seconds()/3600),2))"
   ]
  },
  {
   "cell_type": "code",
   "execution_count": 20,
   "metadata": {},
   "outputs": [],
   "source": [
    "def calculate_utr(a,b):\n",
    "    ut = round(b/(a.total_seconds()/3600),2)\n",
    "    return ut\n",
    "\n",
    "utr['daily_UTR'] = utr.apply(lambda x: calculate_utr(x['hours_online'],x['#orders']),axis=1)"
   ]
  },
  {
   "cell_type": "code",
   "execution_count": 21,
   "metadata": {},
   "outputs": [
    {
     "data": {
      "image/png": "[encoded data removed]",
      "text/plain": [
       "<Figure size 1440x360 with 2 Axes>"
      ]
     },
     "metadata": {},
     "output_type": "display_data"
    }
   ],
   "source": [
    "sns.heatmap(utr.corr(),cmap='BuPu',annot=True)\n",
    "plt.title('Correlation Matrix')\n",
    "plt.show()"
   ]
  },
  {
   "cell_type": "code",
   "execution_count": null,
   "metadata": {},
   "outputs": [],
   "source": []
  },
  {
   "cell_type": "code",
   "execution_count": null,
   "metadata": {},
   "outputs": [],
   "source": []
  },
  {
   "cell_type": "code",
   "execution_count": null,
   "metadata": {},
   "outputs": [],
   "source": []
  },
  {
   "cell_type": "code",
   "execution_count": null,
   "metadata": {},
   "outputs": [],
   "source": []
  },
  {
   "cell_type": "markdown",
   "metadata": {},
   "source": [
    "# Insights & Recommendations "
   ]
  },
  {
   "cell_type": "markdown",
   "metadata": {},
   "source": [
    "#### From Pearson's correlation Matrix we can see that the key factor affecting UTR is the \n",
    "#### Time utilized effectively followed by number of orders \n",
    "#### How do we improve UTR ? \n",
    "    # We can see that average delivery time is approximately 21 mins, but average ride time is only 6 mins\n",
    "    # It means (21-6) 15 minutes could be used more productively\n",
    "    # We can find average wait time for rider at restaurant is 8 mins.This can to be reduced\n",
    "    # Using Ml algorithm like Rider Optimization algorithms.\n",
    "    # In this way, every rider will be assigned more orders\n",
    "    # Order processing time is approximately 3 minutes.This can be reduced by aggregator through automation\n",
    "    # PS: Order processing is the time taken by aggregator to sent to vendor\n",
    "    # Another way is to assign more riders online during the peak hours ( 8am - 12 pm).Refer chart above.\n",
    "    \n",
    "    "
   ]
  },
  {
   "cell_type": "code",
   "execution_count": null,
   "metadata": {},
   "outputs": [],
   "source": [
    " "
   ]
  },
  {
   "cell_type": "code",
   "execution_count": null,
   "metadata": {},
   "outputs": [],
   "source": []
  }
 ],
 "metadata": {
  "kernelspec": {
   "display_name": "Python 3",
   "language": "python",
   "name": "python3"
  },
  "language_info": {
   "codemirror_mode": {
    "name": "ipython",
    "version": 3
   },
   "file_extension": ".py",
   "mimetype": "text/x-python",
   "name": "python",
   "nbconvert_exporter": "python",
   "pygments_lexer": "ipython3",
   "version": "3.7.4"
  }
 },
 "nbformat": 4,
 "nbformat_minor": 4
}
